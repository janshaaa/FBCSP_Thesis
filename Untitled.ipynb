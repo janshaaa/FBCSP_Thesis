{
 "cells": [
  {
   "cell_type": "code",
   "execution_count": 1,
   "id": "b8eccaaf-4f07-47e1-9c5c-96359ef66e55",
   "metadata": {},
   "outputs": [],
   "source": [
    "from utils import *\n",
    "\n",
    "import numpy as np\n",
    "import scipy.io as sio\n",
    "import pyriemann.utils.mean as rie_mean\n",
    "import pandas as pd\n",
    "import tensorflow as tf\n",
    "\n",
    "from copy import deepcopy\n",
    "from scipy import linalg\n",
    "from scipy import signal\n",
    "from scipy.signal import hilbert\n",
    "from sklearn.svm import LinearSVC, SVC\n",
    "from sklearn.model_selection import train_test_split\n",
    "from sklearn.feature_selection import mutual_info_classif\n",
    "\n",
    "'''\n",
    "from mutual_information import mutual_information \n",
    "        https://gist.github.com/elsonidoq/4230222\n",
    "        doesn't make any deffrence in output    \n",
    "'''\n",
    "\n",
    "import time\n",
    "import math"
   ]
  },
  {
   "cell_type": "code",
   "execution_count": 27,
   "id": "d2b6c473-87bb-415f-ac77-23979d94ebea",
   "metadata": {},
   "outputs": [],
   "source": [
    "def get_data(subject,training,PATH):\n",
    "    '''\n",
    "    Loads the dataset 2a of the BCI Competition IV\n",
    "    available on http://bnci-horizon-2020.eu/database/data-sets\n",
    "\n",
    "    Keyword arguments:\n",
    "    subject -- number of subject in [1, .. ,9]\n",
    "    training -- if True, load training data\n",
    "                if False, load testing data\n",
    "\n",
    "    Return: data_return \tnumpy matrix \tsize = NO_valid_trial x 22 x 1750\n",
    "    class_return \tnumpy matrix \tsize = NO_valid_trial\n",
    "    '''\n",
    "    NO_channels = 22\n",
    "    NO_tests = 6*48\n",
    "    Window_Length = 1499\n",
    "\n",
    "    class_return = np.zeros(NO_tests)\n",
    "    data_return = np.zeros((NO_tests,NO_channels,Window_Length))\n",
    "\n",
    "    NO_valid_trial = 0\n",
    "    print(\"PATH : \",PATH,\"  subject : \",subject)\n",
    "    if training:\n",
    "        a = sio.loadmat(PATH+'A0'+str(subject)+'T_sorted.mat')\n",
    "    else:\n",
    "        a = sio.loadmat(PATH+'A0'+str(subject)+'E.mat')\n",
    "    a_data = a['data']\n",
    "    \n",
    "    for ii in range(0,a_data.size):\n",
    "        a_data1 = a_data[0,ii]\n",
    "        a_data2=[a_data1[0,0]]\n",
    "        a_data3=a_data2[0]\n",
    "        a_X= a_data3[0]\n",
    "        a_trial= a_data3[1]\n",
    "        a_y = a_data3[2]\n",
    "        a_fs= a_data3[3]\n",
    "        a_classes= a_data3[4]\n",
    "        a_artifacts= a_data3[5]\n",
    "        a_gender= a_data3[6]\n",
    "        a_age= a_data3[7]\n",
    "        for trial in range(0,a_trial.size):\n",
    "            if(a_artifacts[trial]==0):\n",
    "                data_return[NO_valid_trial,:,:] = np.transpose(a_X[int(a_trial[trial]):(int(a_trial[trial])+Window_Length),:22])\n",
    "                class_return[NO_valid_trial] = int(a_y[trial])\n",
    "                NO_valid_trial +=1\n",
    "\n",
    "\n",
    "    return data_return[0:NO_valid_trial,:,:], class_return[0:NO_valid_trial]"
   ]
  },
  {
   "cell_type": "code",
   "execution_count": 28,
   "id": "fb4504d4-0195-43d4-ba8d-93c762851df1",
   "metadata": {},
   "outputs": [
    {
     "name": "stdout",
     "output_type": "stream",
     "text": [
      "PATH :  C:/Users/jonadum/Desktop/Multiple Classes FBCSP/datasets/   subject :  3\n"
     ]
    },
    {
     "ename": "ValueError",
     "evalue": "could not broadcast input array from shape (22,0) into shape (22,1499)",
     "output_type": "error",
     "traceback": [
      "\u001b[1;31m---------------------------------------------------------------------------\u001b[0m",
      "\u001b[1;31mValueError\u001b[0m                                Traceback (most recent call last)",
      "\u001b[1;32m~\\AppData\\Local\\Temp\\ipykernel_14140\\3844293909.py\u001b[0m in \u001b[0;36m<module>\u001b[1;34m\u001b[0m\n\u001b[1;32m----> 1\u001b[1;33m \u001b[0mget_data\u001b[0m\u001b[1;33m(\u001b[0m\u001b[1;36m3\u001b[0m\u001b[1;33m,\u001b[0m\u001b[1;32mTrue\u001b[0m\u001b[1;33m,\u001b[0m\u001b[1;34m'C:/Users/jonadum/Desktop/Multiple Classes FBCSP/datasets/'\u001b[0m\u001b[1;33m)\u001b[0m\u001b[1;33m\u001b[0m\u001b[1;33m\u001b[0m\u001b[0m\n\u001b[0m",
      "\u001b[1;32m~\\AppData\\Local\\Temp\\ipykernel_14140\\2328389058.py\u001b[0m in \u001b[0;36mget_data\u001b[1;34m(subject, training, PATH)\u001b[0m\n\u001b[0;32m     41\u001b[0m         \u001b[1;32mfor\u001b[0m \u001b[0mtrial\u001b[0m \u001b[1;32min\u001b[0m \u001b[0mrange\u001b[0m\u001b[1;33m(\u001b[0m\u001b[1;36m0\u001b[0m\u001b[1;33m,\u001b[0m\u001b[0ma_trial\u001b[0m\u001b[1;33m.\u001b[0m\u001b[0msize\u001b[0m\u001b[1;33m)\u001b[0m\u001b[1;33m:\u001b[0m\u001b[1;33m\u001b[0m\u001b[1;33m\u001b[0m\u001b[0m\n\u001b[0;32m     42\u001b[0m             \u001b[1;32mif\u001b[0m\u001b[1;33m(\u001b[0m\u001b[0ma_artifacts\u001b[0m\u001b[1;33m[\u001b[0m\u001b[0mtrial\u001b[0m\u001b[1;33m]\u001b[0m\u001b[1;33m==\u001b[0m\u001b[1;36m0\u001b[0m\u001b[1;33m)\u001b[0m\u001b[1;33m:\u001b[0m\u001b[1;33m\u001b[0m\u001b[1;33m\u001b[0m\u001b[0m\n\u001b[1;32m---> 43\u001b[1;33m                 \u001b[0mdata_return\u001b[0m\u001b[1;33m[\u001b[0m\u001b[0mNO_valid_trial\u001b[0m\u001b[1;33m,\u001b[0m\u001b[1;33m:\u001b[0m\u001b[1;33m,\u001b[0m\u001b[1;33m:\u001b[0m\u001b[1;33m]\u001b[0m \u001b[1;33m=\u001b[0m \u001b[0mnp\u001b[0m\u001b[1;33m.\u001b[0m\u001b[0mtranspose\u001b[0m\u001b[1;33m(\u001b[0m\u001b[0ma_X\u001b[0m\u001b[1;33m[\u001b[0m\u001b[0mint\u001b[0m\u001b[1;33m(\u001b[0m\u001b[0ma_trial\u001b[0m\u001b[1;33m[\u001b[0m\u001b[0mtrial\u001b[0m\u001b[1;33m]\u001b[0m\u001b[1;33m)\u001b[0m\u001b[1;33m:\u001b[0m\u001b[1;33m(\u001b[0m\u001b[0mint\u001b[0m\u001b[1;33m(\u001b[0m\u001b[0ma_trial\u001b[0m\u001b[1;33m[\u001b[0m\u001b[0mtrial\u001b[0m\u001b[1;33m]\u001b[0m\u001b[1;33m)\u001b[0m\u001b[1;33m+\u001b[0m\u001b[0mWindow_Length\u001b[0m\u001b[1;33m)\u001b[0m\u001b[1;33m,\u001b[0m\u001b[1;33m:\u001b[0m\u001b[1;36m22\u001b[0m\u001b[1;33m]\u001b[0m\u001b[1;33m)\u001b[0m\u001b[1;33m\u001b[0m\u001b[1;33m\u001b[0m\u001b[0m\n\u001b[0m\u001b[0;32m     44\u001b[0m                 \u001b[0mclass_return\u001b[0m\u001b[1;33m[\u001b[0m\u001b[0mNO_valid_trial\u001b[0m\u001b[1;33m]\u001b[0m \u001b[1;33m=\u001b[0m \u001b[0mint\u001b[0m\u001b[1;33m(\u001b[0m\u001b[0ma_y\u001b[0m\u001b[1;33m[\u001b[0m\u001b[0mtrial\u001b[0m\u001b[1;33m]\u001b[0m\u001b[1;33m)\u001b[0m\u001b[1;33m\u001b[0m\u001b[1;33m\u001b[0m\u001b[0m\n\u001b[0;32m     45\u001b[0m                 \u001b[0mNO_valid_trial\u001b[0m \u001b[1;33m+=\u001b[0m\u001b[1;36m1\u001b[0m\u001b[1;33m\u001b[0m\u001b[1;33m\u001b[0m\u001b[0m\n",
      "\u001b[1;31mValueError\u001b[0m: could not broadcast input array from shape (22,0) into shape (22,1499)"
     ]
    }
   ],
   "source": [
    "get_data(3,True,'C:/Users/jonadum/Desktop/Multiple Classes FBCSP/datasets/')"
   ]
  },
  {
   "cell_type": "code",
   "execution_count": null,
   "id": "fe3762bd-abfa-4b8c-9f91-3e2d06209187",
   "metadata": {},
   "outputs": [],
   "source": []
  }
 ],
 "metadata": {
  "kernelspec": {
   "display_name": "Python 3 (ipykernel)",
   "language": "python",
   "name": "python3"
  },
  "language_info": {
   "codemirror_mode": {
    "name": "ipython",
    "version": 3
   },
   "file_extension": ".py",
   "mimetype": "text/x-python",
   "name": "python",
   "nbconvert_exporter": "python",
   "pygments_lexer": "ipython3",
   "version": "3.9.13"
  }
 },
 "nbformat": 4,
 "nbformat_minor": 5
}
